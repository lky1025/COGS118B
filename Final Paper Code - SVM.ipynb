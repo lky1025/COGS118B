{
 "cells": [
  {
   "cell_type": "code",
   "execution_count": 1,
   "metadata": {},
   "outputs": [],
   "source": [
    "import numpy as np \n",
    "import pandas as pd "
   ]
  },
  {
   "cell_type": "code",
   "execution_count": 2,
   "metadata": {},
   "outputs": [],
   "source": [
    "def process_names(st):\n",
    "    st = list(st)\n",
    "    for i in range(len(st)):\n",
    "        if st[-1] == '.':\n",
    "            break\n",
    "        else:\n",
    "            st.pop()\n",
    "    st.pop()\n",
    "    st = ''.join(st)\n",
    "    st = st.replace('.', '-')\n",
    "    return st"
   ]
  },
  {
   "cell_type": "code",
   "execution_count": 3,
   "metadata": {},
   "outputs": [],
   "source": [
    "def train_test_split(df):\n",
    "    \n",
    "    df.sample(frac=1)\n",
    "    print('Data loaded and shuffled.')\n",
    "\n",
    "    # n_neighbors = int(input(\"n_neighbors: \"))\n",
    "    n_obs = df.shape[0]\n",
    "    train_frac = 0.7\n",
    "\n",
    "    trainset = df.iloc[:int(train_frac*n_obs), :]\n",
    "    testset = df.iloc[int(train_frac*n_obs):n_obs-1, :]\n",
    "\n",
    "    train_labels = trainset.expression\n",
    "    train_inputs = trainset.drop(columns=['expression', 'Unnamed: 0'], axis=1)\n",
    "\n",
    "    test_labels = testset.expression\n",
    "    test_inputs = testset.drop(columns=['expression', 'Unnamed: 0'], axis=1)\n",
    "\n",
    "    print(\"\\nTrain inputs shape: {0}, train labels shape: {1}\".format(\n",
    "        train_inputs.shape,\n",
    "        train_labels.shape\n",
    "    ))\n",
    "\n",
    "    print(\"\\nTest inputs shape: {0}, test labels shape: {1}\".format(\n",
    "        test_inputs.shape,\n",
    "        test_labels.shape\n",
    "    ))\n",
    "\n",
    "    return train_inputs, train_labels, test_inputs, test_labels"
   ]
  },
  {
   "cell_type": "code",
   "execution_count": 5,
   "metadata": {},
   "outputs": [
    {
     "ename": "FileNotFoundError",
     "evalue": "[Errno 2] No such file or directory: 'datasets/jaffe_loaded.npy'",
     "output_type": "error",
     "traceback": [
      "\u001b[1;31m---------------------------------------------------------------------------\u001b[0m",
      "\u001b[1;31mFileNotFoundError\u001b[0m                         Traceback (most recent call last)",
      "\u001b[1;32m<ipython-input-5-1299af44c4ca>\u001b[0m in \u001b[0;36m<module>\u001b[1;34m\u001b[0m\n\u001b[0;32m      3\u001b[0m \u001b[0mlabels_dir\u001b[0m \u001b[1;33m=\u001b[0m \u001b[1;34m'datasets/jaffe_labels.csv'\u001b[0m\u001b[1;33m\u001b[0m\u001b[1;33m\u001b[0m\u001b[0m\n\u001b[0;32m      4\u001b[0m \u001b[1;33m\u001b[0m\u001b[0m\n\u001b[1;32m----> 5\u001b[1;33m \u001b[0mdf\u001b[0m \u001b[1;33m=\u001b[0m \u001b[0mpd\u001b[0m\u001b[1;33m.\u001b[0m\u001b[0mDataFrame\u001b[0m\u001b[1;33m(\u001b[0m\u001b[0mdata\u001b[0m\u001b[1;33m=\u001b[0m\u001b[0mnp\u001b[0m\u001b[1;33m.\u001b[0m\u001b[0mload\u001b[0m\u001b[1;33m(\u001b[0m\u001b[0mdata_dir\u001b[0m\u001b[1;33m)\u001b[0m\u001b[1;33m)\u001b[0m\u001b[1;33m\u001b[0m\u001b[1;33m\u001b[0m\u001b[0m\n\u001b[0m\u001b[0;32m      6\u001b[0m \u001b[0mnames\u001b[0m \u001b[1;33m=\u001b[0m \u001b[0mpd\u001b[0m\u001b[1;33m.\u001b[0m\u001b[0mread_csv\u001b[0m\u001b[1;33m(\u001b[0m\u001b[0mnames_dir\u001b[0m\u001b[1;33m,\u001b[0m \u001b[0mdelimiter\u001b[0m\u001b[1;33m=\u001b[0m\u001b[1;34m','\u001b[0m\u001b[1;33m,\u001b[0m \u001b[0mheader\u001b[0m\u001b[1;33m=\u001b[0m\u001b[1;32mNone\u001b[0m\u001b[1;33m)\u001b[0m\u001b[1;33m.\u001b[0m\u001b[0mto_numpy\u001b[0m\u001b[1;33m(\u001b[0m\u001b[1;33m)\u001b[0m\u001b[1;33m.\u001b[0m\u001b[0msqueeze\u001b[0m\u001b[1;33m(\u001b[0m\u001b[1;33m)\u001b[0m\u001b[1;33m\u001b[0m\u001b[1;33m\u001b[0m\u001b[0m\n\u001b[0;32m      7\u001b[0m \u001b[1;33m\u001b[0m\u001b[0m\n",
      "\u001b[1;32m~\\Anaconda3\\lib\\site-packages\\numpy\\lib\\npyio.py\u001b[0m in \u001b[0;36mload\u001b[1;34m(file, mmap_mode, allow_pickle, fix_imports, encoding)\u001b[0m\n\u001b[0;32m    420\u001b[0m         \u001b[0mown_fid\u001b[0m \u001b[1;33m=\u001b[0m \u001b[1;32mFalse\u001b[0m\u001b[1;33m\u001b[0m\u001b[1;33m\u001b[0m\u001b[0m\n\u001b[0;32m    421\u001b[0m     \u001b[1;32melse\u001b[0m\u001b[1;33m:\u001b[0m\u001b[1;33m\u001b[0m\u001b[1;33m\u001b[0m\u001b[0m\n\u001b[1;32m--> 422\u001b[1;33m         \u001b[0mfid\u001b[0m \u001b[1;33m=\u001b[0m \u001b[0mopen\u001b[0m\u001b[1;33m(\u001b[0m\u001b[0mos_fspath\u001b[0m\u001b[1;33m(\u001b[0m\u001b[0mfile\u001b[0m\u001b[1;33m)\u001b[0m\u001b[1;33m,\u001b[0m \u001b[1;34m\"rb\"\u001b[0m\u001b[1;33m)\u001b[0m\u001b[1;33m\u001b[0m\u001b[1;33m\u001b[0m\u001b[0m\n\u001b[0m\u001b[0;32m    423\u001b[0m         \u001b[0mown_fid\u001b[0m \u001b[1;33m=\u001b[0m \u001b[1;32mTrue\u001b[0m\u001b[1;33m\u001b[0m\u001b[1;33m\u001b[0m\u001b[0m\n\u001b[0;32m    424\u001b[0m \u001b[1;33m\u001b[0m\u001b[0m\n",
      "\u001b[1;31mFileNotFoundError\u001b[0m: [Errno 2] No such file or directory: 'datasets/jaffe_loaded.npy'"
     ]
    }
   ],
   "source": [
    "data_dir = 'datasets/jaffe_loaded.npy'\n",
    "names_dir = 'datasets/jaffe_img_ids.txt'\n",
    "labels_dir = 'datasets/jaffe_labels.csv'\n",
    "\n",
    "df = pd.DataFrame(data=np.load(data_dir))\n",
    "names = pd.read_csv(names_dir, delimiter=',', header=None).to_numpy().squeeze()\n",
    "\n",
    "# Manipulate image names to match label format\n",
    "names = [process_names(name) for name in names]\n",
    "\n",
    "# Add names column to image df\n",
    "df['names'] = names\n",
    "\n",
    "df_labels = pd.read_csv(labels_dir)\n",
    "df_labels = df_labels.drop(columns='Unnamed: 0', axis=1)\n",
    "\n",
    "'''\n",
    "The labels are given as a table of 6 mean scores for each image.\n",
    "Therefore, we take the expression with the highest mean score among these\n",
    "six, and use that as the label for that image.\n",
    "'''\n",
    "\n",
    "df_labelids = df_labels.PIC\n",
    "df_labels = df_labels.drop(columns=['PIC', '#'], axis=1)\n",
    "\n",
    "expressions = []\n",
    "for i, row in enumerate(df_labels.to_numpy()):\n",
    "    # print(type(row))\n",
    "    expression = np.argmax(row)\n",
    "    expressions.append(expression)\n",
    "\n",
    "df_labels['names'] = df_labelids\n",
    "df_labels['expression'] = expressions\n",
    "\n",
    "df_all = pd.merge(df, df_labels, on='names')\n",
    "\n",
    "df_final = df_all.drop(\n",
    "    columns=['names', 'HAP', 'SAD', 'SUR', 'ANG', 'DIS', 'FEA'],\n",
    "    axis=1\n",
    ")\n",
    "\n",
    "df_final.to_csv(\n",
    "    'datasets/final_data.csv',\n",
    "    sep=','\n",
    ")"
   ]
  },
  {
   "cell_type": "code",
   "execution_count": null,
   "metadata": {},
   "outputs": [],
   "source": []
  }
 ],
 "metadata": {
  "kernelspec": {
   "display_name": "Python 3",
   "language": "python",
   "name": "python3"
  },
  "language_info": {
   "codemirror_mode": {
    "name": "ipython",
    "version": 3
   },
   "file_extension": ".py",
   "mimetype": "text/x-python",
   "name": "python",
   "nbconvert_exporter": "python",
   "pygments_lexer": "ipython3",
   "version": "3.7.4"
  }
 },
 "nbformat": 4,
 "nbformat_minor": 2
}
